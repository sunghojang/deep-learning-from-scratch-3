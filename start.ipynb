{
 "cells": [
  {
   "cell_type": "markdown",
   "id": "8745b61b",
   "metadata": {},
   "source": [
    "# tab 키로 함수 자동완성기능 추가"
   ]
  },
  {
   "cell_type": "code",
   "execution_count": null,
   "id": "a24e290f",
   "metadata": {},
   "outputs": [],
   "source": [
    "%config Completer.use_jedi = False   "
   ]
  },
  {
   "cell_type": "code",
   "execution_count": 3,
   "id": "0040e6fc",
   "metadata": {},
   "outputs": [],
   "source": [
    "import numpy as np\n",
    "from dezero import Variable\n"
   ]
  },
  {
   "cell_type": "code",
   "execution_count": 4,
   "id": "1fe32447",
   "metadata": {},
   "outputs": [
    {
     "data": {
      "text/plain": [
       "array(1.)"
      ]
     },
     "execution_count": 4,
     "metadata": {},
     "output_type": "execute_result"
    }
   ],
   "source": []
  },
  {
   "cell_type": "code",
   "execution_count": 7,
   "id": "5ece7df8",
   "metadata": {},
   "outputs": [],
   "source": [
    "def f(x):\n",
    "    y = x ** 4 - 2 * x **2\n",
    "    return y\n",
    "\n",
    "x = Variable(np.array(2.0))\n",
    "x.data"
   ]
  },
  {
   "cell_type": "code",
   "execution_count": 10,
   "id": "fa798003",
   "metadata": {},
   "outputs": [],
   "source": [
    "y = f(x)\n",
    "y.backward(create_graph=True)"
   ]
  },
  {
   "cell_type": "code",
   "execution_count": 12,
   "id": "8216b5fc",
   "metadata": {},
   "outputs": [
    {
     "name": "stdout",
     "output_type": "stream",
     "text": [
      "variable(0.0)\n"
     ]
    }
   ],
   "source": [
    "print(x.grad)"
   ]
  },
  {
   "cell_type": "code",
   "execution_count": 13,
   "id": "59281b26",
   "metadata": {},
   "outputs": [
    {
     "name": "stdout",
     "output_type": "stream",
     "text": [
      "variable(16.0)\n"
     ]
    }
   ],
   "source": [
    "gx = x.grad\n",
    "gx.backward()\n",
    "print(x.grad)"
   ]
  }
 ],
 "metadata": {
  "kernelspec": {
   "display_name": "Python 3 (ipykernel)",
   "language": "python",
   "name": "python3"
  },
  "language_info": {
   "codemirror_mode": {
    "name": "ipython",
    "version": 3
   },
   "file_extension": ".py",
   "mimetype": "text/x-python",
   "name": "python",
   "nbconvert_exporter": "python",
   "pygments_lexer": "ipython3",
   "version": "3.10.9"
  }
 },
 "nbformat": 4,
 "nbformat_minor": 5
}
