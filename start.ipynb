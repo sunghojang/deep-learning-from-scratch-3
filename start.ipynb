{
 "cells": [
  {
   "cell_type": "markdown",
   "id": "8745b61b",
   "metadata": {},
   "source": [
    "# tab 키로 함수 자동완성기능 추가"
   ]
  },
  {
   "cell_type": "code",
   "execution_count": null,
   "id": "a24e290f",
   "metadata": {},
   "outputs": [],
   "source": [
    "%config Completer.use_jedi = False   "
   ]
  },
  {
   "cell_type": "code",
   "execution_count": 13,
   "id": "0040e6fc",
   "metadata": {},
   "outputs": [],
   "source": [
    "import numpy as np\n",
    "from dezero.core import Variable\n"
   ]
  },
  {
   "cell_type": "code",
   "execution_count": 12,
   "id": "1fe32447",
   "metadata": {},
   "outputs": [
    {
     "data": {
      "text/plain": [
       "array(1.)"
      ]
     },
     "execution_count": 12,
     "metadata": {},
     "output_type": "execute_result"
    }
   ],
   "source": [
    "x = Variable(np.array(1.0))\n",
    "x.data"
   ]
  },
  {
   "cell_type": "markdown",
   "id": "83c6cdb5",
   "metadata": {},
   "source": [
    "계산 그래프 시각화"
   ]
  },
  {
   "cell_type": "code",
   "execution_count": null,
   "id": "5ece7df8",
   "metadata": {},
   "outputs": [],
   "source": []
  }
 ],
 "metadata": {
  "kernelspec": {
   "display_name": "Python 3 (ipykernel)",
   "language": "python",
   "name": "python3"
  },
  "language_info": {
   "codemirror_mode": {
    "name": "ipython",
    "version": 3
   },
   "file_extension": ".py",
   "mimetype": "text/x-python",
   "name": "python",
   "nbconvert_exporter": "python",
   "pygments_lexer": "ipython3",
   "version": "3.10.9"
  }
 },
 "nbformat": 4,
 "nbformat_minor": 5
}
